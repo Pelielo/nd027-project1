{
 "cells": [
  {
   "cell_type": "markdown",
   "metadata": {},
   "source": [
    "# ETL Processes\n",
    "Use this notebook to develop the ETL process for each of your tables before completing the `etl.py` file to load the whole datasets."
   ]
  },
  {
   "cell_type": "code",
   "execution_count": 1,
   "metadata": {},
   "outputs": [],
   "source": [
    "import os\n",
    "import glob\n",
    "import psycopg2\n",
    "import pandas as pd\n",
    "import json\n",
    "import datetime\n",
    "from sql_queries import *"
   ]
  },
  {
   "cell_type": "code",
   "execution_count": 2,
   "metadata": {},
   "outputs": [],
   "source": [
    "conn = psycopg2.connect(\"host=127.0.0.1 dbname=sparkifydb user=student password=student\")\n",
    "cur = conn.cursor()"
   ]
  },
  {
   "cell_type": "code",
   "execution_count": 3,
   "metadata": {},
   "outputs": [],
   "source": [
    "def get_files(filepath):\n",
    "    all_files = []\n",
    "    for root, dirs, files in os.walk(filepath):\n",
    "        files = glob.glob(os.path.join(root,'*.json'))\n",
    "        for f in files :\n",
    "            all_files.append(os.path.abspath(f))\n",
    "    \n",
    "    return all_files"
   ]
  },
  {
   "cell_type": "markdown",
   "metadata": {},
   "source": [
    "# Process `song_data`\n",
    "In this first part, you'll perform ETL on the first dataset, `song_data`, to create the `songs` and `artists` dimensional tables.\n",
    "\n",
    "Let's perform ETL on a single song file and load a single record into each table to start.\n",
    "- Use the `get_files` function provided above to get a list of all song JSON files in `data/song_data`\n",
    "- Select the first song in this list\n",
    "- Read the song file and view the data"
   ]
  },
  {
   "cell_type": "code",
   "execution_count": 4,
   "metadata": {},
   "outputs": [
    {
     "name": "stdout",
     "output_type": "stream",
     "text": [
      "/home/pelielo/projects/nd027-project1/data/song_data/A/A/A/TRAAAAW128F429D538.json\n",
      "71\n"
     ]
    }
   ],
   "source": [
    "filepath = './data/song_data'\n",
    "song_files = get_files(filepath)\n",
    "print(song_files[0])\n",
    "print(len(song_files))"
   ]
  },
  {
   "cell_type": "code",
   "execution_count": 5,
   "metadata": {},
   "outputs": [
    {
     "data": {
      "text/html": [
       "<div>\n",
       "<style scoped>\n",
       "    .dataframe tbody tr th:only-of-type {\n",
       "        vertical-align: middle;\n",
       "    }\n",
       "\n",
       "    .dataframe tbody tr th {\n",
       "        vertical-align: top;\n",
       "    }\n",
       "\n",
       "    .dataframe thead th {\n",
       "        text-align: right;\n",
       "    }\n",
       "</style>\n",
       "<table border=\"1\" class=\"dataframe\">\n",
       "  <thead>\n",
       "    <tr style=\"text-align: right;\">\n",
       "      <th></th>\n",
       "      <th>num_songs</th>\n",
       "      <th>artist_id</th>\n",
       "      <th>artist_latitude</th>\n",
       "      <th>artist_longitude</th>\n",
       "      <th>artist_location</th>\n",
       "      <th>artist_name</th>\n",
       "      <th>song_id</th>\n",
       "      <th>title</th>\n",
       "      <th>duration</th>\n",
       "      <th>year</th>\n",
       "    </tr>\n",
       "  </thead>\n",
       "  <tbody>\n",
       "    <tr>\n",
       "      <th>0</th>\n",
       "      <td>1</td>\n",
       "      <td>ARD7TVE1187B99BFB1</td>\n",
       "      <td>NaN</td>\n",
       "      <td>NaN</td>\n",
       "      <td>California - LA</td>\n",
       "      <td>Casual</td>\n",
       "      <td>SOMZWCG12A8C13C480</td>\n",
       "      <td>I Didn't Mean To</td>\n",
       "      <td>218.93179</td>\n",
       "      <td>0</td>\n",
       "    </tr>\n",
       "    <tr>\n",
       "      <th>1</th>\n",
       "      <td>1</td>\n",
       "      <td>ARKFYS91187B98E58F</td>\n",
       "      <td>NaN</td>\n",
       "      <td>NaN</td>\n",
       "      <td></td>\n",
       "      <td>Jeff And Sheri Easter</td>\n",
       "      <td>SOYMRWW12A6D4FAB14</td>\n",
       "      <td>The Moon And I (Ordinary Day Album Version)</td>\n",
       "      <td>267.70240</td>\n",
       "      <td>0</td>\n",
       "    </tr>\n",
       "    <tr>\n",
       "      <th>2</th>\n",
       "      <td>1</td>\n",
       "      <td>ARNTLGG11E2835DDB9</td>\n",
       "      <td>NaN</td>\n",
       "      <td>NaN</td>\n",
       "      <td></td>\n",
       "      <td>Clp</td>\n",
       "      <td>SOUDSGM12AC9618304</td>\n",
       "      <td>Insatiable (Instrumental Version)</td>\n",
       "      <td>266.39628</td>\n",
       "      <td>0</td>\n",
       "    </tr>\n",
       "    <tr>\n",
       "      <th>3</th>\n",
       "      <td>1</td>\n",
       "      <td>ARGSJW91187B9B1D6B</td>\n",
       "      <td>35.21962</td>\n",
       "      <td>-80.01955</td>\n",
       "      <td>North Carolina</td>\n",
       "      <td>JennyAnyKind</td>\n",
       "      <td>SOQHXMF12AB0182363</td>\n",
       "      <td>Young Boy Blues</td>\n",
       "      <td>218.77506</td>\n",
       "      <td>0</td>\n",
       "    </tr>\n",
       "    <tr>\n",
       "      <th>4</th>\n",
       "      <td>1</td>\n",
       "      <td>ARKRRTF1187B9984DA</td>\n",
       "      <td>NaN</td>\n",
       "      <td>NaN</td>\n",
       "      <td></td>\n",
       "      <td>Sonora Santanera</td>\n",
       "      <td>SOXVLOJ12AB0189215</td>\n",
       "      <td>Amor De Cabaret</td>\n",
       "      <td>177.47546</td>\n",
       "      <td>0</td>\n",
       "    </tr>\n",
       "    <tr>\n",
       "      <th>...</th>\n",
       "      <td>...</td>\n",
       "      <td>...</td>\n",
       "      <td>...</td>\n",
       "      <td>...</td>\n",
       "      <td>...</td>\n",
       "      <td>...</td>\n",
       "      <td>...</td>\n",
       "      <td>...</td>\n",
       "      <td>...</td>\n",
       "      <td>...</td>\n",
       "    </tr>\n",
       "    <tr>\n",
       "      <th>66</th>\n",
       "      <td>1</td>\n",
       "      <td>AREVWGE1187B9B890A</td>\n",
       "      <td>-13.44200</td>\n",
       "      <td>-41.99520</td>\n",
       "      <td>Noci (BA)</td>\n",
       "      <td>Bitter End</td>\n",
       "      <td>SOFCHDR12AB01866EF</td>\n",
       "      <td>Living Hell</td>\n",
       "      <td>282.43546</td>\n",
       "      <td>0</td>\n",
       "    </tr>\n",
       "    <tr>\n",
       "      <th>67</th>\n",
       "      <td>1</td>\n",
       "      <td>AR558FS1187FB45658</td>\n",
       "      <td>NaN</td>\n",
       "      <td>NaN</td>\n",
       "      <td></td>\n",
       "      <td>40 Grit</td>\n",
       "      <td>SOGDBUF12A8C140FAA</td>\n",
       "      <td>Intro</td>\n",
       "      <td>75.67628</td>\n",
       "      <td>2003</td>\n",
       "    </tr>\n",
       "    <tr>\n",
       "      <th>68</th>\n",
       "      <td>1</td>\n",
       "      <td>ARNF6401187FB57032</td>\n",
       "      <td>40.79086</td>\n",
       "      <td>-73.96644</td>\n",
       "      <td>New York, NY [Manhattan]</td>\n",
       "      <td>Sophie B. Hawkins</td>\n",
       "      <td>SONWXQJ12A8C134D94</td>\n",
       "      <td>The Ballad Of Sleeping Beauty</td>\n",
       "      <td>305.16200</td>\n",
       "      <td>1994</td>\n",
       "    </tr>\n",
       "    <tr>\n",
       "      <th>69</th>\n",
       "      <td>1</td>\n",
       "      <td>ARJIE2Y1187B994AB7</td>\n",
       "      <td>NaN</td>\n",
       "      <td>NaN</td>\n",
       "      <td></td>\n",
       "      <td>Line Renaud</td>\n",
       "      <td>SOUPIRU12A6D4FA1E1</td>\n",
       "      <td>Der Kleine Dompfaff</td>\n",
       "      <td>152.92036</td>\n",
       "      <td>0</td>\n",
       "    </tr>\n",
       "    <tr>\n",
       "      <th>70</th>\n",
       "      <td>1</td>\n",
       "      <td>ARVBRGZ1187FB4675A</td>\n",
       "      <td>NaN</td>\n",
       "      <td>NaN</td>\n",
       "      <td></td>\n",
       "      <td>Gwen Stefani</td>\n",
       "      <td>SORRZGD12A6310DBC3</td>\n",
       "      <td>Harajuku Girls</td>\n",
       "      <td>290.55955</td>\n",
       "      <td>2004</td>\n",
       "    </tr>\n",
       "  </tbody>\n",
       "</table>\n",
       "<p>71 rows × 10 columns</p>\n",
       "</div>"
      ],
      "text/plain": [
       "    num_songs           artist_id  artist_latitude  artist_longitude  \\\n",
       "0           1  ARD7TVE1187B99BFB1              NaN               NaN   \n",
       "1           1  ARKFYS91187B98E58F              NaN               NaN   \n",
       "2           1  ARNTLGG11E2835DDB9              NaN               NaN   \n",
       "3           1  ARGSJW91187B9B1D6B         35.21962         -80.01955   \n",
       "4           1  ARKRRTF1187B9984DA              NaN               NaN   \n",
       "..        ...                 ...              ...               ...   \n",
       "66          1  AREVWGE1187B9B890A        -13.44200         -41.99520   \n",
       "67          1  AR558FS1187FB45658              NaN               NaN   \n",
       "68          1  ARNF6401187FB57032         40.79086         -73.96644   \n",
       "69          1  ARJIE2Y1187B994AB7              NaN               NaN   \n",
       "70          1  ARVBRGZ1187FB4675A              NaN               NaN   \n",
       "\n",
       "             artist_location            artist_name             song_id  \\\n",
       "0            California - LA                 Casual  SOMZWCG12A8C13C480   \n",
       "1                             Jeff And Sheri Easter  SOYMRWW12A6D4FAB14   \n",
       "2                                               Clp  SOUDSGM12AC9618304   \n",
       "3             North Carolina           JennyAnyKind  SOQHXMF12AB0182363   \n",
       "4                                  Sonora Santanera  SOXVLOJ12AB0189215   \n",
       "..                       ...                    ...                 ...   \n",
       "66                 Noci (BA)             Bitter End  SOFCHDR12AB01866EF   \n",
       "67                                          40 Grit  SOGDBUF12A8C140FAA   \n",
       "68  New York, NY [Manhattan]      Sophie B. Hawkins  SONWXQJ12A8C134D94   \n",
       "69                                      Line Renaud  SOUPIRU12A6D4FA1E1   \n",
       "70                                     Gwen Stefani  SORRZGD12A6310DBC3   \n",
       "\n",
       "                                          title   duration  year  \n",
       "0                              I Didn't Mean To  218.93179     0  \n",
       "1   The Moon And I (Ordinary Day Album Version)  267.70240     0  \n",
       "2             Insatiable (Instrumental Version)  266.39628     0  \n",
       "3                               Young Boy Blues  218.77506     0  \n",
       "4                               Amor De Cabaret  177.47546     0  \n",
       "..                                          ...        ...   ...  \n",
       "66                                  Living Hell  282.43546     0  \n",
       "67                                        Intro   75.67628  2003  \n",
       "68                The Ballad Of Sleeping Beauty  305.16200  1994  \n",
       "69                          Der Kleine Dompfaff  152.92036     0  \n",
       "70                               Harajuku Girls  290.55955  2004  \n",
       "\n",
       "[71 rows x 10 columns]"
      ]
     },
     "execution_count": 5,
     "metadata": {},
     "output_type": "execute_result"
    }
   ],
   "source": [
    "json_data = []\n",
    "\n",
    "for song in song_files: # Remove to load all events\n",
    "    with open(song) as json_file:\n",
    "        data = json.load(json_file)\n",
    "        json_data.append(data)\n",
    "        \n",
    "song_df = pd.DataFrame.from_dict(json_data)\n",
    "song_df"
   ]
  },
  {
   "cell_type": "markdown",
   "metadata": {},
   "source": [
    "## #1: `songs` Table\n",
    "#### Extract Data for Songs Table\n",
    "- Select columns for song ID, title, artist ID, year, and duration\n",
    "- Use `df.values` to select just the values from the dataframe\n",
    "- Index to select the first (only) record in the dataframe\n",
    "- Convert the array to a list and set it to `song_data`"
   ]
  },
  {
   "cell_type": "code",
   "execution_count": 6,
   "metadata": {},
   "outputs": [],
   "source": [
    "song_data = song_df[['song_id', 'title', 'artist_id', 'year', 'duration']].values.tolist()"
   ]
  },
  {
   "cell_type": "markdown",
   "metadata": {},
   "source": [
    "#### Insert Record into Song Table\n",
    "Implement the `song_table_insert` query in `sql_queries.py` and run the cell below to insert a record for this song into the `songs` table. Remember to run `create_tables.py` before running the cell below to ensure you've created/resetted the `songs` table in the sparkify database."
   ]
  },
  {
   "cell_type": "code",
   "execution_count": 7,
   "metadata": {},
   "outputs": [],
   "source": [
    "for song in song_data:\n",
    "    cur.execute(song_table_insert, tuple(song))\n",
    "    conn.commit()"
   ]
  },
  {
   "cell_type": "markdown",
   "metadata": {},
   "source": [
    "Run `test.ipynb` to see if you've successfully added a record to this table."
   ]
  },
  {
   "cell_type": "markdown",
   "metadata": {},
   "source": [
    "## #2: `artists` Table\n",
    "#### Extract Data for Artists Table\n",
    "- Select columns for artist ID, name, location, latitude, and longitude\n",
    "- Use `df.values` to select just the values from the dataframe\n",
    "- Index to select the first (only) record in the dataframe\n",
    "- Convert the array to a list and set it to `artist_data`"
   ]
  },
  {
   "cell_type": "code",
   "execution_count": 8,
   "metadata": {},
   "outputs": [],
   "source": [
    "artist_df = song_df[['artist_id', 'artist_name', 'artist_location', 'artist_latitude', 'artist_longitude']]\n",
    "artist_data = artist_df.values.tolist()"
   ]
  },
  {
   "cell_type": "markdown",
   "metadata": {},
   "source": [
    "#### Insert Record into Artist Table\n",
    "Implement the `artist_table_insert` query in `sql_queries.py` and run the cell below to insert a record for this song's artist into the `artists` table. Remember to run `create_tables.py` before running the cell below to ensure you've created/resetted the `artists` table in the sparkify database."
   ]
  },
  {
   "cell_type": "code",
   "execution_count": 9,
   "metadata": {},
   "outputs": [],
   "source": [
    "for artist in artist_data:\n",
    "    cur.execute(artist_table_insert, tuple(artist))\n",
    "    conn.commit()"
   ]
  },
  {
   "cell_type": "markdown",
   "metadata": {},
   "source": [
    "Run `test.ipynb` to see if you've successfully added a record to this table."
   ]
  },
  {
   "cell_type": "markdown",
   "metadata": {},
   "source": [
    "# Process `log_data`\n",
    "In this part, you'll perform ETL on the second dataset, `log_data`, to create the `time` and `users` dimensional tables, as well as the `songplays` fact table.\n",
    "\n",
    "Let's perform ETL on a single log file and load a single record into each table.\n",
    "- Use the `get_files` function provided above to get a list of all log JSON files in `data/log_data`\n",
    "- Select the first log file in this list\n",
    "- Read the log file and view the data"
   ]
  },
  {
   "cell_type": "code",
   "execution_count": 10,
   "metadata": {},
   "outputs": [
    {
     "name": "stdout",
     "output_type": "stream",
     "text": [
      "/home/pelielo/projects/nd027-project1/data/log_data/2018/11/2018-11-13-events.json\n",
      "30\n"
     ]
    }
   ],
   "source": [
    "filepath = './data/log_data'\n",
    "log_files = get_files(filepath)\n",
    "print(log_files[0])\n",
    "print(len(log_files))"
   ]
  },
  {
   "cell_type": "code",
   "execution_count": 11,
   "metadata": {},
   "outputs": [
    {
     "name": "stdout",
     "output_type": "stream",
     "text": [
      "6820\n"
     ]
    },
    {
     "data": {
      "text/html": [
       "<div>\n",
       "<style scoped>\n",
       "    .dataframe tbody tr th:only-of-type {\n",
       "        vertical-align: middle;\n",
       "    }\n",
       "\n",
       "    .dataframe tbody tr th {\n",
       "        vertical-align: top;\n",
       "    }\n",
       "\n",
       "    .dataframe thead th {\n",
       "        text-align: right;\n",
       "    }\n",
       "</style>\n",
       "<table border=\"1\" class=\"dataframe\">\n",
       "  <thead>\n",
       "    <tr style=\"text-align: right;\">\n",
       "      <th></th>\n",
       "      <th>artist</th>\n",
       "      <th>auth</th>\n",
       "      <th>firstName</th>\n",
       "      <th>gender</th>\n",
       "      <th>itemInSession</th>\n",
       "      <th>lastName</th>\n",
       "      <th>length</th>\n",
       "      <th>level</th>\n",
       "      <th>location</th>\n",
       "      <th>method</th>\n",
       "      <th>page</th>\n",
       "      <th>registration</th>\n",
       "      <th>sessionId</th>\n",
       "      <th>song</th>\n",
       "      <th>status</th>\n",
       "      <th>ts</th>\n",
       "      <th>userAgent</th>\n",
       "      <th>userId</th>\n",
       "    </tr>\n",
       "  </thead>\n",
       "  <tbody>\n",
       "    <tr>\n",
       "      <th>1</th>\n",
       "      <td>Fu</td>\n",
       "      <td>Logged In</td>\n",
       "      <td>Kevin</td>\n",
       "      <td>M</td>\n",
       "      <td>1</td>\n",
       "      <td>Arellano</td>\n",
       "      <td>280.05832</td>\n",
       "      <td>free</td>\n",
       "      <td>Harrisburg-Carlisle, PA</td>\n",
       "      <td>PUT</td>\n",
       "      <td>NextSong</td>\n",
       "      <td>1.540007e+12</td>\n",
       "      <td>514</td>\n",
       "      <td>Ja I Ty</td>\n",
       "      <td>200</td>\n",
       "      <td>1542069637796</td>\n",
       "      <td>\"Mozilla/5.0 (Macintosh; Intel Mac OS X 10_9_4...</td>\n",
       "      <td>66</td>\n",
       "    </tr>\n",
       "    <tr>\n",
       "      <th>3</th>\n",
       "      <td>All Time Low</td>\n",
       "      <td>Logged In</td>\n",
       "      <td>Maia</td>\n",
       "      <td>F</td>\n",
       "      <td>1</td>\n",
       "      <td>Burke</td>\n",
       "      <td>177.84118</td>\n",
       "      <td>free</td>\n",
       "      <td>Houston-The Woodlands-Sugar Land, TX</td>\n",
       "      <td>PUT</td>\n",
       "      <td>NextSong</td>\n",
       "      <td>1.540677e+12</td>\n",
       "      <td>510</td>\n",
       "      <td>A Party Song (The Walk of Shame)</td>\n",
       "      <td>200</td>\n",
       "      <td>1542071549796</td>\n",
       "      <td>\"Mozilla/5.0 (Windows NT 6.3; WOW64) AppleWebK...</td>\n",
       "      <td>51</td>\n",
       "    </tr>\n",
       "    <tr>\n",
       "      <th>4</th>\n",
       "      <td>Nik &amp; Jay</td>\n",
       "      <td>Logged In</td>\n",
       "      <td>Wyatt</td>\n",
       "      <td>M</td>\n",
       "      <td>0</td>\n",
       "      <td>Scott</td>\n",
       "      <td>196.51873</td>\n",
       "      <td>free</td>\n",
       "      <td>Eureka-Arcata-Fortuna, CA</td>\n",
       "      <td>PUT</td>\n",
       "      <td>NextSong</td>\n",
       "      <td>1.540872e+12</td>\n",
       "      <td>379</td>\n",
       "      <td>Pop-Pop!</td>\n",
       "      <td>200</td>\n",
       "      <td>1542079142796</td>\n",
       "      <td>Mozilla/5.0 (Windows NT 6.1; WOW64; Trident/7....</td>\n",
       "      <td>9</td>\n",
       "    </tr>\n",
       "    <tr>\n",
       "      <th>5</th>\n",
       "      <td>Quad City DJ's</td>\n",
       "      <td>Logged In</td>\n",
       "      <td>Chloe</td>\n",
       "      <td>F</td>\n",
       "      <td>0</td>\n",
       "      <td>Cuevas</td>\n",
       "      <td>451.44771</td>\n",
       "      <td>free</td>\n",
       "      <td>San Francisco-Oakland-Hayward, CA</td>\n",
       "      <td>PUT</td>\n",
       "      <td>NextSong</td>\n",
       "      <td>1.540941e+12</td>\n",
       "      <td>506</td>\n",
       "      <td>C'mon N' Ride It (The Train) (LP Version)</td>\n",
       "      <td>200</td>\n",
       "      <td>1542081112796</td>\n",
       "      <td>Mozilla/5.0 (Windows NT 5.1; rv:31.0) Gecko/20...</td>\n",
       "      <td>49</td>\n",
       "    </tr>\n",
       "    <tr>\n",
       "      <th>8</th>\n",
       "      <td>Hoobastank</td>\n",
       "      <td>Logged In</td>\n",
       "      <td>Noah</td>\n",
       "      <td>M</td>\n",
       "      <td>1</td>\n",
       "      <td>Chavez</td>\n",
       "      <td>232.17587</td>\n",
       "      <td>free</td>\n",
       "      <td>Ogden-Clearfield, UT</td>\n",
       "      <td>PUT</td>\n",
       "      <td>NextSong</td>\n",
       "      <td>1.540971e+12</td>\n",
       "      <td>492</td>\n",
       "      <td>Born To Lead</td>\n",
       "      <td>200</td>\n",
       "      <td>1542085206796</td>\n",
       "      <td>Mozilla/5.0 (Windows NT 6.1; WOW64; rv:32.0) G...</td>\n",
       "      <td>94</td>\n",
       "    </tr>\n",
       "  </tbody>\n",
       "</table>\n",
       "</div>"
      ],
      "text/plain": [
       "           artist       auth firstName gender  itemInSession  lastName  \\\n",
       "1              Fu  Logged In     Kevin      M              1  Arellano   \n",
       "3    All Time Low  Logged In      Maia      F              1     Burke   \n",
       "4       Nik & Jay  Logged In     Wyatt      M              0     Scott   \n",
       "5  Quad City DJ's  Logged In     Chloe      F              0    Cuevas   \n",
       "8      Hoobastank  Logged In      Noah      M              1    Chavez   \n",
       "\n",
       "      length level                              location method      page  \\\n",
       "1  280.05832  free               Harrisburg-Carlisle, PA    PUT  NextSong   \n",
       "3  177.84118  free  Houston-The Woodlands-Sugar Land, TX    PUT  NextSong   \n",
       "4  196.51873  free             Eureka-Arcata-Fortuna, CA    PUT  NextSong   \n",
       "5  451.44771  free     San Francisco-Oakland-Hayward, CA    PUT  NextSong   \n",
       "8  232.17587  free                  Ogden-Clearfield, UT    PUT  NextSong   \n",
       "\n",
       "   registration  sessionId                                       song  status  \\\n",
       "1  1.540007e+12        514                                    Ja I Ty     200   \n",
       "3  1.540677e+12        510           A Party Song (The Walk of Shame)     200   \n",
       "4  1.540872e+12        379                                   Pop-Pop!     200   \n",
       "5  1.540941e+12        506  C'mon N' Ride It (The Train) (LP Version)     200   \n",
       "8  1.540971e+12        492                               Born To Lead     200   \n",
       "\n",
       "              ts                                          userAgent userId  \n",
       "1  1542069637796  \"Mozilla/5.0 (Macintosh; Intel Mac OS X 10_9_4...     66  \n",
       "3  1542071549796  \"Mozilla/5.0 (Windows NT 6.3; WOW64) AppleWebK...     51  \n",
       "4  1542079142796  Mozilla/5.0 (Windows NT 6.1; WOW64; Trident/7....      9  \n",
       "5  1542081112796  Mozilla/5.0 (Windows NT 5.1; rv:31.0) Gecko/20...     49  \n",
       "8  1542085206796  Mozilla/5.0 (Windows NT 6.1; WOW64; rv:32.0) G...     94  "
      ]
     },
     "execution_count": 11,
     "metadata": {},
     "output_type": "execute_result"
    }
   ],
   "source": [
    "json_data = []\n",
    "\n",
    "for log in log_files: # Remove to load all events\n",
    "    with open(log) as json_file:\n",
    "        for line in json_file:\n",
    "            data = json.loads(line)\n",
    "            json_data.append(data)\n",
    "            \n",
    "# df = pd.read_json(filepath, lines=True) # ALTERNATIVE \n",
    "log_df = pd.DataFrame.from_dict(json_data)\n",
    "log_df = log_df[log_df['page'] == 'NextSong']\n",
    "\n",
    "print(len(log_df))\n",
    "# df = df.head(1) # Remove to load all events\n",
    "\n",
    "\n",
    "log_df.head()"
   ]
  },
  {
   "cell_type": "markdown",
   "metadata": {},
   "source": [
    "## #3: `time` Table\n",
    "#### Extract Data for Time Table\n",
    "- Filter records by `NextSong` action\n",
    "- Convert the `ts` timestamp column to datetime\n",
    "  - Hint: the current timestamp is in milliseconds\n",
    "- Extract the timestamp, hour, day, week of year, month, year, and weekday from the `ts` column and set `time_data` to a list containing these values in order\n",
    "  - Hint: use pandas' [`dt` attribute](https://pandas.pydata.org/pandas-docs/stable/reference/api/pandas.Series.dt.html) to access easily datetimelike properties.\n",
    "- Specify labels for these columns and set to `column_labels`\n",
    "- Create a dataframe, `time_df,` containing the time data for this file by combining `column_labels` and `time_data` into a dictionary and converting this into a dataframe"
   ]
  },
  {
   "cell_type": "code",
   "execution_count": 12,
   "metadata": {},
   "outputs": [
    {
     "data": {
      "text/html": [
       "<div>\n",
       "<style scoped>\n",
       "    .dataframe tbody tr th:only-of-type {\n",
       "        vertical-align: middle;\n",
       "    }\n",
       "\n",
       "    .dataframe tbody tr th {\n",
       "        vertical-align: top;\n",
       "    }\n",
       "\n",
       "    .dataframe thead th {\n",
       "        text-align: right;\n",
       "    }\n",
       "</style>\n",
       "<table border=\"1\" class=\"dataframe\">\n",
       "  <thead>\n",
       "    <tr style=\"text-align: right;\">\n",
       "      <th></th>\n",
       "      <th>start_time</th>\n",
       "      <th>hour</th>\n",
       "      <th>day</th>\n",
       "      <th>week</th>\n",
       "      <th>month</th>\n",
       "      <th>year</th>\n",
       "      <th>weekday</th>\n",
       "    </tr>\n",
       "  </thead>\n",
       "  <tbody>\n",
       "    <tr>\n",
       "      <th>0</th>\n",
       "      <td>2018-11-13 00:40:37.796</td>\n",
       "      <td>0</td>\n",
       "      <td>13</td>\n",
       "      <td>46</td>\n",
       "      <td>11</td>\n",
       "      <td>2018</td>\n",
       "      <td>1</td>\n",
       "    </tr>\n",
       "    <tr>\n",
       "      <th>1</th>\n",
       "      <td>2018-11-13 01:12:29.796</td>\n",
       "      <td>1</td>\n",
       "      <td>13</td>\n",
       "      <td>46</td>\n",
       "      <td>11</td>\n",
       "      <td>2018</td>\n",
       "      <td>1</td>\n",
       "    </tr>\n",
       "    <tr>\n",
       "      <th>2</th>\n",
       "      <td>2018-11-13 03:19:02.796</td>\n",
       "      <td>3</td>\n",
       "      <td>13</td>\n",
       "      <td>46</td>\n",
       "      <td>11</td>\n",
       "      <td>2018</td>\n",
       "      <td>1</td>\n",
       "    </tr>\n",
       "    <tr>\n",
       "      <th>3</th>\n",
       "      <td>2018-11-13 03:51:52.796</td>\n",
       "      <td>3</td>\n",
       "      <td>13</td>\n",
       "      <td>46</td>\n",
       "      <td>11</td>\n",
       "      <td>2018</td>\n",
       "      <td>1</td>\n",
       "    </tr>\n",
       "    <tr>\n",
       "      <th>4</th>\n",
       "      <td>2018-11-13 05:00:06.796</td>\n",
       "      <td>5</td>\n",
       "      <td>13</td>\n",
       "      <td>46</td>\n",
       "      <td>11</td>\n",
       "      <td>2018</td>\n",
       "      <td>1</td>\n",
       "    </tr>\n",
       "  </tbody>\n",
       "</table>\n",
       "</div>"
      ],
      "text/plain": [
       "               start_time  hour  day  week  month  year  weekday\n",
       "0 2018-11-13 00:40:37.796     0   13    46     11  2018        1\n",
       "1 2018-11-13 01:12:29.796     1   13    46     11  2018        1\n",
       "2 2018-11-13 03:19:02.796     3   13    46     11  2018        1\n",
       "3 2018-11-13 03:51:52.796     3   13    46     11  2018        1\n",
       "4 2018-11-13 05:00:06.796     5   13    46     11  2018        1"
      ]
     },
     "execution_count": 12,
     "metadata": {},
     "output_type": "execute_result"
    }
   ],
   "source": [
    "column_labels = ('start_time', 'hour', 'day', 'week', 'month', 'year', 'weekday')\n",
    "time_df = pd.DataFrame()\n",
    "\n",
    "for i, row in log_df.iterrows():\n",
    "    timestamp = pd.Series(pd.to_datetime(row['ts'], unit='ms'))\n",
    "    time_data = (timestamp.values[0], \n",
    "             timestamp.dt.hour.values[0], \n",
    "             timestamp.dt.day.values[0], \n",
    "             timestamp.dt.week.values[0], \n",
    "             timestamp.dt.month.values[0], \n",
    "             timestamp.dt.year.values[0],\n",
    "             timestamp.dt.weekday.values[0])\n",
    "    \n",
    "    time_df = time_df.append(pd.DataFrame(data = [time_data], columns = column_labels), ignore_index = True)\n",
    "          \n",
    "time_df.head()\n"
   ]
  },
  {
   "cell_type": "markdown",
   "metadata": {},
   "source": [
    "#### Insert Records into Time Table\n",
    "Implement the `time_table_insert` query in `sql_queries.py` and run the cell below to insert records for the timestamps in this log file into the `time` table. Remember to run `create_tables.py` before running the cell below to ensure you've created/resetted the `time` table in the sparkify database."
   ]
  },
  {
   "cell_type": "code",
   "execution_count": 13,
   "metadata": {},
   "outputs": [],
   "source": [
    "for i, row in time_df.iterrows():\n",
    "    cur.execute(time_table_insert, list(row))\n",
    "    conn.commit()"
   ]
  },
  {
   "cell_type": "markdown",
   "metadata": {},
   "source": [
    "Run `test.ipynb` to see if you've successfully added records to this table."
   ]
  },
  {
   "cell_type": "markdown",
   "metadata": {},
   "source": [
    "## #4: `users` Table\n",
    "#### Extract Data for Users Table\n",
    "- Select columns for user ID, first name, last name, gender and level and set to `user_df`"
   ]
  },
  {
   "cell_type": "code",
   "execution_count": 14,
   "metadata": {},
   "outputs": [
    {
     "data": {
      "text/html": [
       "<div>\n",
       "<style scoped>\n",
       "    .dataframe tbody tr th:only-of-type {\n",
       "        vertical-align: middle;\n",
       "    }\n",
       "\n",
       "    .dataframe tbody tr th {\n",
       "        vertical-align: top;\n",
       "    }\n",
       "\n",
       "    .dataframe thead th {\n",
       "        text-align: right;\n",
       "    }\n",
       "</style>\n",
       "<table border=\"1\" class=\"dataframe\">\n",
       "  <thead>\n",
       "    <tr style=\"text-align: right;\">\n",
       "      <th></th>\n",
       "      <th>userId</th>\n",
       "      <th>firstName</th>\n",
       "      <th>lastName</th>\n",
       "      <th>gender</th>\n",
       "      <th>level</th>\n",
       "    </tr>\n",
       "  </thead>\n",
       "  <tbody>\n",
       "    <tr>\n",
       "      <th>1</th>\n",
       "      <td>66</td>\n",
       "      <td>Kevin</td>\n",
       "      <td>Arellano</td>\n",
       "      <td>M</td>\n",
       "      <td>free</td>\n",
       "    </tr>\n",
       "    <tr>\n",
       "      <th>3</th>\n",
       "      <td>51</td>\n",
       "      <td>Maia</td>\n",
       "      <td>Burke</td>\n",
       "      <td>F</td>\n",
       "      <td>free</td>\n",
       "    </tr>\n",
       "    <tr>\n",
       "      <th>4</th>\n",
       "      <td>9</td>\n",
       "      <td>Wyatt</td>\n",
       "      <td>Scott</td>\n",
       "      <td>M</td>\n",
       "      <td>free</td>\n",
       "    </tr>\n",
       "    <tr>\n",
       "      <th>5</th>\n",
       "      <td>49</td>\n",
       "      <td>Chloe</td>\n",
       "      <td>Cuevas</td>\n",
       "      <td>F</td>\n",
       "      <td>free</td>\n",
       "    </tr>\n",
       "    <tr>\n",
       "      <th>8</th>\n",
       "      <td>94</td>\n",
       "      <td>Noah</td>\n",
       "      <td>Chavez</td>\n",
       "      <td>M</td>\n",
       "      <td>free</td>\n",
       "    </tr>\n",
       "  </tbody>\n",
       "</table>\n",
       "</div>"
      ],
      "text/plain": [
       "  userId firstName  lastName gender level\n",
       "1     66     Kevin  Arellano      M  free\n",
       "3     51      Maia     Burke      F  free\n",
       "4      9     Wyatt     Scott      M  free\n",
       "5     49     Chloe    Cuevas      F  free\n",
       "8     94      Noah    Chavez      M  free"
      ]
     },
     "execution_count": 14,
     "metadata": {},
     "output_type": "execute_result"
    }
   ],
   "source": [
    "user_df = log_df[['userId', 'firstName', 'lastName', 'gender', 'level']]\n",
    "user_df.head()"
   ]
  },
  {
   "cell_type": "markdown",
   "metadata": {},
   "source": [
    "#### Insert Records into Users Table\n",
    "Implement the `user_table_insert` query in `sql_queries.py` and run the cell below to insert records for the users in this log file into the `users` table. Remember to run `create_tables.py` before running the cell below to ensure you've created/resetted the `users` table in the sparkify database."
   ]
  },
  {
   "cell_type": "code",
   "execution_count": 15,
   "metadata": {},
   "outputs": [],
   "source": [
    "for i, row in user_df.iterrows():\n",
    "    cur.execute(user_table_insert, row)\n",
    "    conn.commit()"
   ]
  },
  {
   "cell_type": "markdown",
   "metadata": {},
   "source": [
    "Run `test.ipynb` to see if you've successfully added records to this table."
   ]
  },
  {
   "cell_type": "markdown",
   "metadata": {},
   "source": [
    "## #5: `songplays` Table\n",
    "#### Extract Data and Songplays Table\n",
    "This one is a little more complicated since information from the songs table, artists table, and original log file are all needed for the `songplays` table. Since the log file does not specify an ID for either the song or the artist, you'll need to get the song ID and artist ID by querying the songs and artists tables to find matches based on song title, artist name, and song duration time.\n",
    "- Implement the `song_select` query in `sql_queries.py` to find the song ID and artist ID based on the title, artist name, and duration of a song.\n",
    "- Select the timestamp, user ID, level, song ID, artist ID, session ID, location, and user agent and set to `songplay_data`\n",
    "\n",
    "#### Insert Records into Songplays Table\n",
    "- Implement the `songplay_table_insert` query and run the cell below to insert records for the songplay actions in this log file into the `songplays` table. Remember to run `create_tables.py` before running the cell below to ensure you've created/resetted the `songplays` table in the sparkify database."
   ]
  },
  {
   "cell_type": "code",
   "execution_count": 16,
   "metadata": {},
   "outputs": [
    {
     "data": {
      "text/plain": [
       "song\n",
       " I Will Not Reap Destruction    1\n",
       "#40                             1\n",
       "'Round Midnight                 1\n",
       "'Till I Collapse                1\n",
       "(Hon Vill Ha) Puls              1\n",
       "                               ..\n",
       "s.Ada.Licht                     1\n",
       "shimmer                         1\n",
       "the king of wishful thinking    1\n",
       "ÃÂ Noite                      1\n",
       "ÃÂ Aqui Que Se Passa Tudo     1\n",
       "Name: song, Length: 5189, dtype: int64"
      ]
     },
     "execution_count": 16,
     "metadata": {},
     "output_type": "execute_result"
    }
   ],
   "source": [
    "log_df.groupby('song').song.nunique()"
   ]
  },
  {
   "cell_type": "code",
   "execution_count": 17,
   "metadata": {},
   "outputs": [],
   "source": [
    "column_labels = ('user_id', 'song_id', 'artist_id', 'start_time', 'session_id', 'level', 'location', 'user_agent')\n",
    "songplay_df = pd.DataFrame()\n",
    "\n",
    "for index, row in log_df.iterrows():\n",
    "    # get songid and artistid from song and artist tables\n",
    "    results = cur.execute(song_select, (row.song, row.artist, row.length))\n",
    "    song_id, artist_id = results if results else None, None\n",
    "\n",
    "    # insert songplay record\n",
    "    songplay_data = ( # songplay_id, user_id, song_id, artist_id, start_time, session_id, level, location, user_agent\n",
    "        row.userId, \n",
    "        song_id, \n",
    "        artist_id, \n",
    "        pd.Timestamp(row.ts, unit='ms'),\n",
    "        row.sessionId,\n",
    "        row.level,\n",
    "        row.location,\n",
    "        row.userAgent)\n",
    "    \n",
    "    songplay_df = songplay_df.append(pd.DataFrame(data = [songplay_data], columns = column_labels), ignore_index = True)"
   ]
  },
  {
   "cell_type": "code",
   "execution_count": 18,
   "metadata": {},
   "outputs": [],
   "source": [
    "for i, row in songplay_df.iterrows():\n",
    "    cur.execute(songplay_table_insert, list(row))\n",
    "    conn.commit()"
   ]
  },
  {
   "cell_type": "markdown",
   "metadata": {},
   "source": [
    "Run `test.ipynb` to see if you've successfully added records to this table."
   ]
  },
  {
   "cell_type": "markdown",
   "metadata": {},
   "source": [
    "# Close Connection to Sparkify Database"
   ]
  },
  {
   "cell_type": "code",
   "execution_count": 19,
   "metadata": {},
   "outputs": [],
   "source": [
    "conn.close()"
   ]
  },
  {
   "cell_type": "markdown",
   "metadata": {},
   "source": [
    "# Implement `etl.py`\n",
    "Use what you've completed in this notebook to implement `etl.py`."
   ]
  }
 ],
 "metadata": {
  "kernelspec": {
   "display_name": "Python 3",
   "language": "python",
   "name": "python3"
  },
  "language_info": {
   "codemirror_mode": {
    "name": "ipython",
    "version": 3
   },
   "file_extension": ".py",
   "mimetype": "text/x-python",
   "name": "python",
   "nbconvert_exporter": "python",
   "pygments_lexer": "ipython3",
   "version": "3.6.9"
  }
 },
 "nbformat": 4,
 "nbformat_minor": 4
}
